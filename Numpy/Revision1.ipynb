{
 "cells": [
  {
   "cell_type": "code",
   "execution_count": 1,
   "metadata": {},
   "outputs": [],
   "source": [
    "import numpy as np"
   ]
  },
  {
   "cell_type": "code",
   "execution_count": 2,
   "metadata": {},
   "outputs": [],
   "source": [
    "x = np.array([1,2,3])"
   ]
  },
  {
   "cell_type": "code",
   "execution_count": 3,
   "metadata": {},
   "outputs": [],
   "source": [
    "a = np.eye(3)"
   ]
  },
  {
   "cell_type": "code",
   "execution_count": 4,
   "metadata": {},
   "outputs": [
    {
     "data": {
      "text/plain": [
       "1.0"
      ]
     },
     "execution_count": 4,
     "metadata": {},
     "output_type": "execute_result"
    }
   ],
   "source": [
    "np.linalg.det(a)"
   ]
  },
  {
   "cell_type": "code",
   "execution_count": 5,
   "metadata": {},
   "outputs": [
    {
     "data": {
      "text/plain": [
       "array([ 3.,  6.,  9., 12., 15., 18., 21., 24., 27.])"
      ]
     },
     "execution_count": 5,
     "metadata": {},
     "output_type": "execute_result"
    }
   ],
   "source": [
    "np.linspace(3,27,9)"
   ]
  },
  {
   "cell_type": "code",
   "execution_count": 6,
   "metadata": {},
   "outputs": [
    {
     "data": {
      "text/plain": [
       "array([[1., 0., 0.],\n",
       "       [0., 1., 0.],\n",
       "       [0., 0., 1.]])"
      ]
     },
     "execution_count": 6,
     "metadata": {},
     "output_type": "execute_result"
    }
   ],
   "source": [
    "a"
   ]
  },
  {
   "cell_type": "code",
   "execution_count": 7,
   "metadata": {},
   "outputs": [
    {
     "data": {
      "text/plain": [
       "array([ 0,  1,  2,  3,  4,  5,  6,  7,  8,  9, 10])"
      ]
     },
     "execution_count": 7,
     "metadata": {},
     "output_type": "execute_result"
    }
   ],
   "source": [
    "np.arange(0,11)"
   ]
  },
  {
   "cell_type": "code",
   "execution_count": 8,
   "metadata": {},
   "outputs": [
    {
     "data": {
      "text/plain": [
       "array([ 0,  2,  4,  6,  8, 10])"
      ]
     },
     "execution_count": 8,
     "metadata": {},
     "output_type": "execute_result"
    }
   ],
   "source": [
    "np.arange(0,11,2)"
   ]
  },
  {
   "cell_type": "code",
   "execution_count": 10,
   "metadata": {},
   "outputs": [
    {
     "data": {
      "text/plain": [
       "array([[0., 0.],\n",
       "       [0., 0.],\n",
       "       [0., 0.],\n",
       "       [0., 0.],\n",
       "       [0., 0.]])"
      ]
     },
     "execution_count": 10,
     "metadata": {},
     "output_type": "execute_result"
    }
   ],
   "source": [
    "np.zeros((5,2))"
   ]
  },
  {
   "cell_type": "code",
   "execution_count": 11,
   "metadata": {},
   "outputs": [
    {
     "data": {
      "text/plain": [
       "array([[1, 1],\n",
       "       [1, 1],\n",
       "       [1, 1],\n",
       "       [1, 1],\n",
       "       [1, 1]])"
      ]
     },
     "execution_count": 11,
     "metadata": {},
     "output_type": "execute_result"
    }
   ],
   "source": [
    "np.full((5,2),1)"
   ]
  },
  {
   "cell_type": "code",
   "execution_count": 15,
   "metadata": {},
   "outputs": [],
   "source": [
    "x = np.identity((3))"
   ]
  },
  {
   "cell_type": "code",
   "execution_count": 16,
   "metadata": {},
   "outputs": [
    {
     "data": {
      "text/plain": [
       "1.0"
      ]
     },
     "execution_count": 16,
     "metadata": {},
     "output_type": "execute_result"
    }
   ],
   "source": [
    "np.linalg.det(x)"
   ]
  },
  {
   "cell_type": "code",
   "execution_count": 18,
   "metadata": {},
   "outputs": [],
   "source": [
    "with open(\"index.csv\",'w') as f :\n",
    "    for i in range(100):\n",
    "        f.write(str(i) + \",\" + str(i**2) + \"\\n\")"
   ]
  },
  {
   "cell_type": "code",
   "execution_count": 19,
   "metadata": {},
   "outputs": [],
   "source": [
    "y = np.genfromtxt(\"index.csv\",delimiter=',')"
   ]
  },
  {
   "cell_type": "code",
   "execution_count": 20,
   "metadata": {},
   "outputs": [
    {
     "data": {
      "text/plain": [
       "array([[0.000e+00, 0.000e+00],\n",
       "       [1.000e+00, 1.000e+00],\n",
       "       [2.000e+00, 4.000e+00],\n",
       "       [3.000e+00, 9.000e+00],\n",
       "       [4.000e+00, 1.600e+01],\n",
       "       [5.000e+00, 2.500e+01],\n",
       "       [6.000e+00, 3.600e+01],\n",
       "       [7.000e+00, 4.900e+01],\n",
       "       [8.000e+00, 6.400e+01],\n",
       "       [9.000e+00, 8.100e+01],\n",
       "       [1.000e+01, 1.000e+02],\n",
       "       [1.100e+01, 1.210e+02],\n",
       "       [1.200e+01, 1.440e+02],\n",
       "       [1.300e+01, 1.690e+02],\n",
       "       [1.400e+01, 1.960e+02],\n",
       "       [1.500e+01, 2.250e+02],\n",
       "       [1.600e+01, 2.560e+02],\n",
       "       [1.700e+01, 2.890e+02],\n",
       "       [1.800e+01, 3.240e+02],\n",
       "       [1.900e+01, 3.610e+02],\n",
       "       [2.000e+01, 4.000e+02],\n",
       "       [2.100e+01, 4.410e+02],\n",
       "       [2.200e+01, 4.840e+02],\n",
       "       [2.300e+01, 5.290e+02],\n",
       "       [2.400e+01, 5.760e+02],\n",
       "       [2.500e+01, 6.250e+02],\n",
       "       [2.600e+01, 6.760e+02],\n",
       "       [2.700e+01, 7.290e+02],\n",
       "       [2.800e+01, 7.840e+02],\n",
       "       [2.900e+01, 8.410e+02],\n",
       "       [3.000e+01, 9.000e+02],\n",
       "       [3.100e+01, 9.610e+02],\n",
       "       [3.200e+01, 1.024e+03],\n",
       "       [3.300e+01, 1.089e+03],\n",
       "       [3.400e+01, 1.156e+03],\n",
       "       [3.500e+01, 1.225e+03],\n",
       "       [3.600e+01, 1.296e+03],\n",
       "       [3.700e+01, 1.369e+03],\n",
       "       [3.800e+01, 1.444e+03],\n",
       "       [3.900e+01, 1.521e+03],\n",
       "       [4.000e+01, 1.600e+03],\n",
       "       [4.100e+01, 1.681e+03],\n",
       "       [4.200e+01, 1.764e+03],\n",
       "       [4.300e+01, 1.849e+03],\n",
       "       [4.400e+01, 1.936e+03],\n",
       "       [4.500e+01, 2.025e+03],\n",
       "       [4.600e+01, 2.116e+03],\n",
       "       [4.700e+01, 2.209e+03],\n",
       "       [4.800e+01, 2.304e+03],\n",
       "       [4.900e+01, 2.401e+03],\n",
       "       [5.000e+01, 2.500e+03],\n",
       "       [5.100e+01, 2.601e+03],\n",
       "       [5.200e+01, 2.704e+03],\n",
       "       [5.300e+01, 2.809e+03],\n",
       "       [5.400e+01, 2.916e+03],\n",
       "       [5.500e+01, 3.025e+03],\n",
       "       [5.600e+01, 3.136e+03],\n",
       "       [5.700e+01, 3.249e+03],\n",
       "       [5.800e+01, 3.364e+03],\n",
       "       [5.900e+01, 3.481e+03],\n",
       "       [6.000e+01, 3.600e+03],\n",
       "       [6.100e+01, 3.721e+03],\n",
       "       [6.200e+01, 3.844e+03],\n",
       "       [6.300e+01, 3.969e+03],\n",
       "       [6.400e+01, 4.096e+03],\n",
       "       [6.500e+01, 4.225e+03],\n",
       "       [6.600e+01, 4.356e+03],\n",
       "       [6.700e+01, 4.489e+03],\n",
       "       [6.800e+01, 4.624e+03],\n",
       "       [6.900e+01, 4.761e+03],\n",
       "       [7.000e+01, 4.900e+03],\n",
       "       [7.100e+01, 5.041e+03],\n",
       "       [7.200e+01, 5.184e+03],\n",
       "       [7.300e+01, 5.329e+03],\n",
       "       [7.400e+01, 5.476e+03],\n",
       "       [7.500e+01, 5.625e+03],\n",
       "       [7.600e+01, 5.776e+03],\n",
       "       [7.700e+01, 5.929e+03],\n",
       "       [7.800e+01, 6.084e+03],\n",
       "       [7.900e+01, 6.241e+03],\n",
       "       [8.000e+01, 6.400e+03],\n",
       "       [8.100e+01, 6.561e+03],\n",
       "       [8.200e+01, 6.724e+03],\n",
       "       [8.300e+01, 6.889e+03],\n",
       "       [8.400e+01, 7.056e+03],\n",
       "       [8.500e+01, 7.225e+03],\n",
       "       [8.600e+01, 7.396e+03],\n",
       "       [8.700e+01, 7.569e+03],\n",
       "       [8.800e+01, 7.744e+03],\n",
       "       [8.900e+01, 7.921e+03],\n",
       "       [9.000e+01, 8.100e+03],\n",
       "       [9.100e+01, 8.281e+03],\n",
       "       [9.200e+01, 8.464e+03],\n",
       "       [9.300e+01, 8.649e+03],\n",
       "       [9.400e+01, 8.836e+03],\n",
       "       [9.500e+01, 9.025e+03],\n",
       "       [9.600e+01, 9.216e+03],\n",
       "       [9.700e+01, 9.409e+03],\n",
       "       [9.800e+01, 9.604e+03],\n",
       "       [9.900e+01, 9.801e+03]])"
      ]
     },
     "execution_count": 20,
     "metadata": {},
     "output_type": "execute_result"
    }
   ],
   "source": [
    "y"
   ]
  },
  {
   "cell_type": "code",
   "execution_count": 21,
   "metadata": {},
   "outputs": [
    {
     "data": {
      "text/plain": [
       "(100, 2)"
      ]
     },
     "execution_count": 21,
     "metadata": {},
     "output_type": "execute_result"
    }
   ],
   "source": [
    "y.shape"
   ]
  },
  {
   "cell_type": "code",
   "execution_count": 22,
   "metadata": {},
   "outputs": [
    {
     "data": {
      "text/plain": [
       "array([0., 0.])"
      ]
     },
     "execution_count": 22,
     "metadata": {},
     "output_type": "execute_result"
    }
   ],
   "source": [
    "y[0]"
   ]
  },
  {
   "cell_type": "code",
   "execution_count": 23,
   "metadata": {},
   "outputs": [
    {
     "data": {
      "text/plain": [
       "array([1., 1.])"
      ]
     },
     "execution_count": 23,
     "metadata": {},
     "output_type": "execute_result"
    }
   ],
   "source": [
    "y[1]"
   ]
  },
  {
   "cell_type": "code",
   "execution_count": 24,
   "metadata": {},
   "outputs": [
    {
     "name": "stdout",
     "output_type": "stream",
     "text": [
      "[( 1,    1) ( 2,    4) ( 3,    9) ( 4,   16) ( 5,   25) ( 6,   36)\n",
      " ( 7,   49) ( 8,   64) ( 9,   81) (10,  100) (11,  121) (12,  144)\n",
      " (13,  169) (14,  196) (15,  225) (16,  256) (17,  289) (18,  324)\n",
      " (19,  361) (20,  400) (21,  441) (22,  484) (23,  529) (24,  576)\n",
      " (25,  625) (26,  676) (27,  729) (28,  784) (29,  841) (30,  900)\n",
      " (31,  961) (32, 1024) (33, 1089) (34, 1156) (35, 1225) (36, 1296)\n",
      " (37, 1369) (38, 1444) (39, 1521) (40, 1600) (41, 1681) (42, 1764)\n",
      " (43, 1849) (44, 1936) (45, 2025) (46, 2116) (47, 2209) (48, 2304)\n",
      " (49, 2401) (50, 2500) (51, 2601) (52, 2704) (53, 2809) (54, 2916)\n",
      " (55, 3025) (56, 3136) (57, 3249) (58, 3364) (59, 3481) (60, 3600)\n",
      " (61, 3721) (62, 3844) (63, 3969) (64, 4096) (65, 4225) (66, 4356)\n",
      " (67, 4489) (68, 4624) (69, 4761) (70, 4900) (71, 5041) (72, 5184)\n",
      " (73, 5329) (74, 5476) (75, 5625) (76, 5776) (77, 5929) (78, 6084)\n",
      " (79, 6241) (80, 6400) (81, 6561) (82, 6724) (83, 6889) (84, 7056)\n",
      " (85, 7225) (86, 7396) (87, 7569) (88, 7744) (89, 7921) (90, 8100)\n",
      " (91, 8281) (92, 8464) (93, 8649) (94, 8836) (95, 9025) (96, 9216)\n",
      " (97, 9409) (98, 9604) (99, 9801)]\n"
     ]
    }
   ],
   "source": [
    "data = np.recfromcsv('index.csv', delimiter=',', encoding='utf-8')\n",
    "print(data)"
   ]
  },
  {
   "cell_type": "code",
   "execution_count": null,
   "metadata": {},
   "outputs": [],
   "source": []
  }
 ],
 "metadata": {
  "kernelspec": {
   "display_name": "base",
   "language": "python",
   "name": "python3"
  },
  "language_info": {
   "codemirror_mode": {
    "name": "ipython",
    "version": 3
   },
   "file_extension": ".py",
   "mimetype": "text/x-python",
   "name": "python",
   "nbconvert_exporter": "python",
   "pygments_lexer": "ipython3",
   "version": "3.11.5"
  }
 },
 "nbformat": 4,
 "nbformat_minor": 2
}
